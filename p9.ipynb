{
 "cells": [
  {
   "attachments": {},
   "cell_type": "markdown",
   "metadata": {},
   "source": [
    "Nombres reservados en Python \n",
    "\n",
    "and, as, assert, break, class, continue, def, del, elif, else, except, exec, finally, for, from,\n",
    "global, if, import, in, is, lambda, not, or, pass, print, raise, return, try, while, with, yield."
   ]
  },
  {
   "cell_type": "code",
   "execution_count": 1,
   "metadata": {},
   "outputs": [
    {
     "name": "stdout",
     "output_type": "stream",
     "text": [
      "10\n",
      "Hola mundo\n"
     ]
    }
   ],
   "source": [
    "#Inicializando variables\n",
    "X = 10      #variable tipo entero\n",
    "print(X)  #Funcion para imporimir los valores de las varibales\n",
    "\n",
    "#Se pueden utilizar comillas simples o dobles para crear una cadena\n",
    "\n",
    "cadena = \"Hola mundo\"\n",
    "print(cadena)\n"
   ]
  },
  {
   "cell_type": "code",
   "execution_count": 2,
   "metadata": {},
   "outputs": [
    {
     "name": "stdout",
     "output_type": "stream",
     "text": [
      "10 10 10\n"
     ]
    }
   ],
   "source": [
    "#Asigna un mimsmo valor a 3 variables}\n",
    "x = y = z = 10\n",
    "print(x,y,z) "
   ]
  },
  {
   "cell_type": "code",
   "execution_count": 3,
   "metadata": {},
   "outputs": [
    {
     "data": {
      "text/plain": [
       "int"
      ]
     },
     "execution_count": 3,
     "metadata": {},
     "output_type": "execute_result"
    }
   ],
   "source": [
    "#La funcion type() permite conocer el tipo de una variable\n",
    "type(x)"
   ]
  },
  {
   "cell_type": "code",
   "execution_count": 4,
   "metadata": {},
   "outputs": [
    {
     "data": {
      "text/plain": [
       "str"
      ]
     },
     "execution_count": 4,
     "metadata": {},
     "output_type": "execute_result"
    }
   ],
   "source": [
    "type(cadena)"
   ]
  },
  {
   "cell_type": "code",
   "execution_count": 5,
   "metadata": {},
   "outputs": [],
   "source": [
    "#Se pueden cambiar los valores de las variables y el tipo se cambia automaticamente \n",
    "x = \"Hola mundo\"\n",
    "cadena = 10"
   ]
  },
  {
   "cell_type": "code",
   "execution_count": 6,
   "metadata": {},
   "outputs": [
    {
     "data": {
      "text/plain": [
       "str"
      ]
     },
     "execution_count": 6,
     "metadata": {},
     "output_type": "execute_result"
    }
   ],
   "source": [
    "type(x)"
   ]
  },
  {
   "cell_type": "code",
   "execution_count": 7,
   "metadata": {},
   "outputs": [
    {
     "data": {
      "text/plain": [
       "int"
      ]
     },
     "execution_count": 7,
     "metadata": {},
     "output_type": "execute_result"
    }
   ],
   "source": [
    "type(cadena)"
   ]
  },
  {
   "attachments": {},
   "cell_type": "markdown",
   "metadata": {},
   "source": [
    "Cuando una variable tiene un valor constante, por convención, el noimbre se escribe en mayúsculas."
   ]
  },
  {
   "cell_type": "code",
   "execution_count": 8,
   "metadata": {},
   "outputs": [],
   "source": [
    "SEGUNDOS_POR_DIA = 60 * 60 * 24\n",
    "PI = 3.14"
   ]
  },
  {
   "attachments": {},
   "cell_type": "markdown",
   "metadata": {},
   "source": [
    "Cadenas \n",
    "\n",
    "Las cadenas pueden ser definidas usando comilla simple (') o comilla doble (\"). Una característica especial de las cadenas es que son inmutables, esto quiere decir que no se pueden cambiar los caracteres que contiene. El caracter \\ sirve para escapar carcteres\n",
    "como \\n o \\t."
   ]
  },
  {
   "cell_type": "code",
   "execution_count": 9,
   "metadata": {},
   "outputs": [
    {
     "name": "stdout",
     "output_type": "stream",
     "text": [
      "Hola\n",
      "Mundo\n",
      "HolaMundo\n"
     ]
    }
   ],
   "source": [
    "#Inicializando cadenas\n",
    "cadena1 = 'Hola'\n",
    "cadena2 = \"Mundo\"\n",
    "print(cadena1)\n",
    "print(cadena2)\n",
    "concat_cadenas = cadena1 + cadena2 #concatenacion de cadenas\n",
    "print(concat_cadenas)"
   ]
  },
  {
   "cell_type": "code",
   "execution_count": 10,
   "metadata": {},
   "outputs": [
    {
     "name": "stdout",
     "output_type": "stream",
     "text": [
      "HolaMundo 3\n"
     ]
    }
   ],
   "source": [
    "#Para concatenar un número y una cadena se debe usar la funcion str()\n",
    "num_cadena = concat_cadenas + ' ' + str(3) #Se agrega una cadena vacia para agregar un espacio\n",
    "print(num_cadena)"
   ]
  },
  {
   "attachments": {},
   "cell_type": "markdown",
   "metadata": {},
   "source": [
    "Por medio de la funcion de la funcion format, se pueden cambiar el orden en el que se imprimen las variables:"
   ]
  },
  {
   "cell_type": "code",
   "execution_count": 11,
   "metadata": {},
   "outputs": [
    {
     "name": "stdout",
     "output_type": "stream",
     "text": [
      "Cambiando el orden: Mundo 3 Hola #\n"
     ]
    }
   ],
   "source": [
    "#Cuando se agrega un némero dentro de {#}, el valor la variable que se encuentra en esa posición \n",
    "#Dentro de la función format(), será impreso.\n",
    "num_cadena = \"Cambiando el orden: {1} {2} {0} #\".format(cadena1, cadena2, 3)\n",
    "print(num_cadena)"
   ]
  },
  {
   "attachments": {},
   "cell_type": "markdown",
   "metadata": {},
   "source": [
    "Las funciones que estan integradas en Python para trabajar con cadenas se puede ver en el siguiente enlace https://docs.python.org/3/library/stdtypes.html#string-methods "
   ]
  },
  {
   "attachments": {},
   "cell_type": "markdown",
   "metadata": {},
   "source": [
    "Operadores\n",
    "\n",
    "Aritméticos: +,-,*,/"
   ]
  },
  {
   "cell_type": "code",
   "execution_count": 12,
   "metadata": {},
   "outputs": [
    {
     "name": "stdout",
     "output_type": "stream",
     "text": [
      "6\n",
      "18\n",
      "6\n",
      "2.0\n",
      "0\n",
      "7.1\n",
      "4\n"
     ]
    }
   ],
   "source": [
    "#Para el exponente se puede utilizar asterisco\n",
    "print( 1 + 5)\n",
    "print(6 * 3)\n",
    "print( 10 - 4)\n",
    "print(100 / 50)\n",
    "print( 10 % 2)\n",
    "print( ((20 - 3) + (6 * 9)) / 10)\n",
    "print( 2 ** 2)"
   ]
  },
  {
   "attachments": {},
   "cell_type": "markdown",
   "metadata": {},
   "source": [
    "Booleanos: and, not, or"
   ]
  },
  {
   "cell_type": "code",
   "execution_count": 13,
   "metadata": {},
   "outputs": [
    {
     "data": {
      "text/plain": [
       "False"
      ]
     },
     "execution_count": 13,
     "metadata": {},
     "output_type": "execute_result"
    }
   ],
   "source": [
    "False and True"
   ]
  },
  {
   "attachments": {},
   "cell_type": "markdown",
   "metadata": {},
   "source": [
    "Comparación: >, <, >=, <=, =="
   ]
  },
  {
   "cell_type": "code",
   "execution_count": 14,
   "metadata": {},
   "outputs": [
    {
     "name": "stdout",
     "output_type": "stream",
     "text": [
      "False\n",
      "True\n",
      "True\n",
      "False\n",
      "True\n"
     ]
    }
   ],
   "source": [
    "print(7 < 5) #False\n",
    "print(7 > 5) #Verdadero\n",
    "print((11 * 3)+2 == 36 - 1) #Verdadero\n",
    "print((11 * 3)+2 >= 36 ) #Falso\n",
    "print(\"curso\" != \"CuRso\") #Verdadero"
   ]
  },
  {
   "attachments": {},
   "cell_type": "markdown",
   "metadata": {},
   "source": [
    "Más información sobre tipos de datos y operadores se puede consultar en\n",
    "https://docs.python.org/3/library/stdtypes.html."
   ]
  },
  {
   "attachments": {},
   "cell_type": "markdown",
   "metadata": {},
   "source": [
    "Listas\n",
    "- Básicamente son valores que están separados por comas dentro de paréntesis\n",
    "cuadrados.\n",
    "- Está compuesta por cualquier cantidad y/o tipo de datos, ya sean cadenas,caracteres, números e inclusive otras listas.\n",
    "- Se puede acceder a las listas por medio de índices, estos índices comienzan desde 0 hasta el número de elementos menos 1.\n",
    "- Las listas son mutables."
   ]
  },
  {
   "cell_type": "code",
   "execution_count": 15,
   "metadata": {},
   "outputs": [
    {
     "name": "stdout",
     "output_type": "stream",
     "text": [
      "[31, 28, 31, 30, 31, 30, 31, 31, 30, 31, 30, 31]\n",
      "31\n",
      "31\n",
      "31\n"
     ]
    }
   ],
   "source": [
    "#Declaración de una lista simple\n",
    "lista_diasDelMes = [31,28,31,30,31,30,31,31,30,31,30,31]\n",
    "\n",
    "print (lista_diasDelMes) #Imprimir la lista completa\n",
    "print (lista_diasDelMes[0]) #Imprimir elemento 1\n",
    "print (lista_diasDelMes[6]) #Imprimir elemento 7\n",
    "print (lista_diasDelMes[11]) #Imprimir elemento 12"
   ]
  },
  {
   "cell_type": "code",
   "execution_count": 16,
   "metadata": {},
   "outputs": [
    {
     "name": "stdout",
     "output_type": "stream",
     "text": [
      "[['cero', 0], ['uno', 1, 'UNO'], ['dos', 2], ['tres', 3], ['cuatro', 4], ['X', 5]]\n",
      "['cero', 0]\n",
      "['uno', 1, 'UNO']\n",
      "dos\n",
      "2\n",
      "uno\n",
      "1\n",
      "UNO\n"
     ]
    }
   ],
   "source": [
    "#Declaración de listas anidadas\n",
    "\n",
    "lista_numeros = [['cero', 0], ['uno', 1, 'UNO'], ['dos',2], ['tres',3], ['cuatro',4], ['X',5]]\n",
    "\n",
    "print(lista_numeros) #Imprime la lista completa\n",
    "\n",
    "print(lista_numeros[0]) #Imprime el elemento de 0 de la lista\n",
    "print(lista_numeros[1]) #Imprime el elemento de 1 de la lista\n",
    "\n",
    "print(lista_numeros[2][0]) #Imprime el primer elemento de la lista en la poisión 2\n",
    "print(lista_numeros[2][1]) #Imprime el segundo elemento de la lista en la poisión 2\n",
    "\n",
    "print(lista_numeros[1][0])\n",
    "print(lista_numeros[1][1])\n",
    "print(lista_numeros[1][2])"
   ]
  },
  {
   "cell_type": "code",
   "execution_count": 17,
   "metadata": {},
   "outputs": [
    {
     "name": "stdout",
     "output_type": "stream",
     "text": [
      "['cinco', 5]\n"
     ]
    }
   ],
   "source": [
    "#Se ca,bia el valor de uno de los elementos de la lista\n",
    "\n",
    "lista_numeros[5][0] =  \"cinco\"\n",
    "print (lista_numeros[5])"
   ]
  },
  {
   "attachments": {},
   "cell_type": "markdown",
   "metadata": {},
   "source": [
    "Hay otras operaciones que se pueden realizar usando listas, éstas se pueden consultar en\n",
    "https://docs.python.org/3/tutorial/datastructures.html#more-on-lists."
   ]
  },
  {
   "attachments": {},
   "cell_type": "markdown",
   "metadata": {},
   "source": [
    "Tuplas\n",
    "- Son pareceidas a las listas, valores separados por una coma.\n",
    "- Comparadas con las listas, las tuplas no son mutables.\n",
    "- Se pueden aplicar las mismas operaciones que en as listas y su ventaja es que consumen menos memoria para almacenarse.\n",
    "- Se crean, ya sea utilizando paréntesis o simplemente separando los valores por comas."
   ]
  },
  {
   "cell_type": "code",
   "execution_count": 18,
   "metadata": {},
   "outputs": [
    {
     "name": "stdout",
     "output_type": "stream",
     "text": [
      "[31, 28, 31, 30, 31, 30, 31, 31, 30, 31, 30, 31]\n",
      "31\n",
      "30\n",
      "28\n"
     ]
    }
   ],
   "source": [
    "tupla_diasDelMes = [31,28,31,30,31,30,31,31,30,31,30,31]\n",
    "\n",
    "print (tupla_diasDelMes) #Imprimir la tupla completa\n",
    "print (tupla_diasDelMes[0]) #Imprimir elemento 1\n",
    "print (tupla_diasDelMes[3]) #Imprimir elemento 4\n",
    "print (tupla_diasDelMes[1]) #Imprimir elemento 2"
   ]
  },
  {
   "cell_type": "code",
   "execution_count": 19,
   "metadata": {},
   "outputs": [
    {
     "name": "stdout",
     "output_type": "stream",
     "text": [
      "[['cero', 0], ['uno', 1, 'UNO'], ['dos', 2], ['tres', 3], ['cuatro', 4], ['cinco', 5]]\n",
      "['cero', 0]\n",
      "['uno', 1, 'UNO']\n",
      "dos\n",
      "2\n",
      "uno\n",
      "1\n",
      "UNO\n"
     ]
    }
   ],
   "source": [
    "#Declaración de tuplas anidadas\n",
    "\n",
    "#Declaración de tuplas anidadas\n",
    "_numeros = (('cero', 0), ('uno', 1, 'UNO'), ('dos',2), ('tres',3), ('cuatro',4), ('X',5))\n",
    "\n",
    "print(lista_numeros) #Imprime la lista completa\n",
    "\n",
    "print(lista_numeros[0]) #Imprime el elemento de 0 de la tupla\n",
    "print(lista_numeros[1]) #Imprime el elemento de 1 de la tupla\n",
    "\n",
    "print(lista_numeros[2][0]) #Imprime el primer elemento de la tupla en la poisión 2\n",
    "print(lista_numeros[2][1]) #Imprime el segundo elemento de la tupla en la poisión 2\n",
    "\n",
    "print(lista_numeros[1][0])\n",
    "print(lista_numeros[1][1])\n",
    "print(lista_numeros[1][2])"
   ]
  },
  {
   "cell_type": "code",
   "execution_count": 20,
   "metadata": {},
   "outputs": [
    {
     "name": "stdout",
     "output_type": "stream",
     "text": [
      "Valor actual 31\n"
     ]
    },
    {
     "ename": "NameError",
     "evalue": "name 'lista_DiasDelMes' is not defined",
     "output_type": "error",
     "traceback": [
      "\u001b[0;31m---------------------------------------------------------------------------\u001b[0m",
      "\u001b[0;31mNameError\u001b[0m                                 Traceback (most recent call last)",
      "Cell \u001b[0;32mIn[20], line 3\u001b[0m\n\u001b[1;32m      1\u001b[0m \u001b[39m#Probando la mutabilidad de las listas vs la no mutabilidad de las tuplas\u001b[39;00m\n\u001b[1;32m      2\u001b[0m \u001b[39mprint\u001b[39m(\u001b[39m\"\u001b[39m\u001b[39mValor actual \u001b[39m\u001b[39m{}\u001b[39;00m\u001b[39m\"\u001b[39m\u001b[39m.\u001b[39mformat(lista_diasDelMes[\u001b[39m0\u001b[39m]))\n\u001b[0;32m----> 3\u001b[0m lista_DiasDelMes[\u001b[39m0\u001b[39m] \u001b[39m=\u001b[39m \u001b[39m50\u001b[39m\n\u001b[1;32m      4\u001b[0m \u001b[39mprint\u001b[39m(\u001b[39m\"\u001b[39m\u001b[39mValor cambiado \u001b[39m\u001b[39m{}\u001b[39;00m\u001b[39m\"\u001b[39m\u001b[39m.\u001b[39mformat(lista_diasDelMes[\u001b[39m0\u001b[39m]))\n\u001b[1;32m      5\u001b[0m tupla_diasDelMes[\u001b[39m0\u001b[39m] \u001b[39m=\u001b[39m \u001b[39m50\u001b[39m \u001b[39m#Esta asignación manda un error, ya que no se pueden cambiar los valores\u001b[39;00m\n",
      "\u001b[0;31mNameError\u001b[0m: name 'lista_DiasDelMes' is not defined"
     ]
    }
   ],
   "source": [
    "#Probando la mutabilidad de las listas vs la no mutabilidad de las tuplas\n",
    "print(\"Valor actual {}\".format(lista_diasDelMes[0]))\n",
    "lista_DiasDelMes[0] = 50\n",
    "print(\"Valor cambiado {}\".format(lista_diasDelMes[0]))\n",
    "tupla_diasDelMes[0] = 50 #Esta asignación manda un error, ya que no se pueden cambiar los valores"
   ]
  },
  {
   "attachments": {},
   "cell_type": "markdown",
   "metadata": {},
   "source": [
    "Tupla con nombre\n",
    "\n",
    "En comparación con las tuplas anteriores, este tipo especial de tuplas permite especificar un nombre para describirla."
   ]
  },
  {
   "cell_type": "code",
   "execution_count": null,
   "metadata": {},
   "outputs": [
    {
     "ename": "ImportError",
     "evalue": "cannot import name 'namdedtuple' from 'collections' (/home/gitpod/.pyenv/versions/3.8.16/lib/python3.8/collections/__init__.py)",
     "output_type": "error",
     "traceback": [
      "\u001b[0;31m---------------------------------------------------------------------------\u001b[0m",
      "\u001b[0;31mImportError\u001b[0m                               Traceback (most recent call last)",
      "Cell \u001b[0;32mIn[22], line 2\u001b[0m\n\u001b[1;32m      1\u001b[0m \u001b[39m#Se debe importar la libreria para hacer uso de namedtuple\u001b[39;00m\n\u001b[0;32m----> 2\u001b[0m \u001b[39mfrom\u001b[39;00m \u001b[39mcollections\u001b[39;00m \u001b[39mimport\u001b[39;00m namdedtuple\n\u001b[1;32m      4\u001b[0m \u001b[39m#Se crea la tupla con nombre\u001b[39;00m\n\u001b[1;32m      5\u001b[0m \u001b[39m#El primer agumento es el nombre de la tupla, mientras que el segundo argumento son los campos\u001b[39;00m\n\u001b[1;32m      6\u001b[0m \u001b[39m#p es la referencia a la tupla\u001b[39;00m\n\u001b[1;32m      7\u001b[0m planeta \u001b[39m=\u001b[39m namedtuple(\u001b[39m'\u001b[39m\u001b[39mplaneta\u001b[39m\u001b[39m'\u001b[39m, [\u001b[39m'\u001b[39m\u001b[39mnombre\u001b[39m\u001b[39m'\u001b[39m, \u001b[39m'\u001b[39m\u001b[39mnumero\u001b[39m\u001b[39m'\u001b[39m])\n",
      "\u001b[0;31mImportError\u001b[0m: cannot import name 'namdedtuple' from 'collections' (/home/gitpod/.pyenv/versions/3.8.16/lib/python3.8/collections/__init__.py)"
     ]
    }
   ],
   "source": [
    "#Se debe importar la libreria para hacer uso de namedtuple\n",
    "from collections import namdedtuple\n",
    "\n",
    "#Se crea la tupla con nombre\n",
    "#El primer agumento es el nombre de la tupla, mientras que el segundo argumento son los campos\n",
    "#p es la referencia a la tupla\n",
    "planeta = namedtuple('planeta', ['nombre', 'numero'])\n",
    "\n",
    "#Se crea el planeta 1  y se agregan a la tupla los valores correspondientes a los campos\n",
    "planeta1 = planeta('Mercurio', 1)\n",
    "print(planeta1)\n",
    "\n",
    "#Se crea el paneta 2 \n",
    "planeta2 = planeta('Venus', 2)\n",
    "\n",
    "#Se imprimen los valores de los campos\n",
    "#Usando la referencia se llama a cada uno de los campos\n",
    "print(planeta1.nombre, planeta1.numero)\n",
    "#Se obtienen los valores por el orden de los campos\n",
    "print(planeta2[0], planeta2[1])\n",
    "\n",
    "print('Campos de la tupla: {}'.format(planeta1._fields))"
   ]
  },
  
  
   ],
   "source": [
    "#Creando un diccionario \n",
    "elementos = { 'hidrogeno': 1, 'helio': 2, 'carbon': 6}\n",
    "\n",
    "#El momento de la impredión, pueden aparecer en diferente  orden del introducido\n",
    "print(elementos)\n",
    "\n",
    "print(elementos['hidrogeno'])"
   ]
  },
  {
   "cell_type": "code",
   "execution_count": null,
   "metadata": {},
   "outputs": [
    {
     "name": "stdout",
     "output_type": "stream",
     "text": [
      "{'hidrogeno': 1, 'helio': 2, 'carbon': 6, 'litio': 3, 'nitrogeno': 8}\n"
     ]
    }
   ],
   "source": [
    "#Se pueden agregar elememtos al diccionario\n",
    "elementos['litio'] = 3\n",
    "elementos['nitrogeno'] = 8\n",
    "\n",
    "print(elementos) #Imprimiendo todos los elementos, nótese que los elemntos no estan ordenados"
   ]
  },
  {
   "cell_type": "code",
   "execution_count": null,
   "metadata": {},
   "outputs": [
    {
     "name": "stdout",
     "output_type": "stream",
     "text": [
      "{'H': {'name': 'Hydrogen', 'number': 1, 'weigh': 1.00794}, 'He': {'name': 'Hydrogen', 'number': 1, 'weigh': 4.002602}}\n"
     ]
    }
   ],
   "source": [
    "#Creando un nuevo diccionario\n",
    "elementos2 = {}\n",
    "elementos2['H'] = {'name': 'Hydrogen', 'number': 1, 'weigh': 1.00794}\n",
    "elementos2['He'] = {'name': 'Hydrogen', 'number': 1, 'weigh': 4.002602}\n",
    "\n",
    "print(elementos2)"
   ]
  },
  {
   "cell_type": "code",
   "execution_count": null,
   "metadata": {},
   "outputs": [
    {
     "name": "stdout",
     "output_type": "stream",
     "text": [
      "{'name': 'Hydrogen', 'number': 1, 'weigh': 1.00794}\n",
      "Hydrogen\n",
      "1\n",
      "4.3\n"
     ]
    }
   ],
   "source": [
    "#Imprimiendo los datos de un elemento del diccionario\n",
    "print(elementos2['H'])\n",
    "print(elementos2['H']['name'])\n",
    "print(elementos2['H']['number'])\n",
    "elementos2['H']['weigh'] = 4.30 #Cambiando el valor de un elemento\n",
    "print(elementos2['H']['weigh'])"
   ]
  },
  {
   "cell_type": "code",
   "execution_count": null,
   "metadata": {},
   "outputs": [
    {
     "name": "stdout",
     "output_type": "stream",
     "text": [
      "{'name': 'Hydrogen', 'number': 1, 'weigh': 4.3, 'gas noble': True}\n"
     ]
    }
   ],
   "source": [
    "#Agregando elementos de una llave\n",
    "elementos2['H'].update({'gas noble': True})\n",
    "print(elementos2['H'])"
   ]
  },
  {
   "cell_type": "code",
   "execution_count": null,
   "metadata": {},
   "outputs": [
    {
     "name": "stdout",
     "output_type": "stream",
     "text": [
      "dict_items([('H', {'name': 'Hydrogen', 'number': 1, 'weigh': 4.3, 'gas noble': True}), ('He', {'name': 'Hydrogen', 'number': 1, 'weigh': 4.002602})])\n",
      "dict_keys(['H', 'He'])\n"
     ]
    }
   ],
   "source": [
    "#Muestra todos los elemntos del diccionario\n",
    "print(elementos2.items())\n",
    "\n",
    "#Muestra todas las llaves del diccionario\n",
    "print(elementos2.keys())"
   ]
  },
  {
   "attachments": {},
   "cell_type": "markdown",
   "metadata": {},
   "source": [
    "Funciones\n",
    "\n",
    "- Una función o procedimiento sirve para empaquetar código que sirve para ser\n",
    "reutilizado.\n",
    "- Se puede usar ese mismo código con diferentes entradas y obtener resultados o comportamiento de acuerdo con esos datos."
   ]
  },
  {
   "cell_type": "code",
   "execution_count": null,
   "metadata": {},
   "outputs": [],
   "source": [
    "#Las funciones  pueden recibir n número de parámetros, no se necesita indicar el tipo\n",
    "def imprime_nombre(nombre):\n",
    "    print(\"hola \"+nombre) #Las cadenas se pueden concatenar con el +"
   ]
  },
  {
   "cell_type": "code",
   "execution_count": null,
   "metadata": {},
   "outputs": [
    {
     "name": "stdout",
     "output_type": "stream",
     "text": [
      "hola JJ\n"
     ]
    }
   ],
   "source": [
    "#Llamada a la función\n",
    "imprime_nombre(\"JJ\")"
   ]
  },
  {
   "cell_type": "code",
   "execution_count": null,
   "metadata": {},
   "outputs": [],
   "source": [
    "#Definiendo una función que regresa el cuadro de un número\n",
    "def cuadrado(x):\n",
    "    return x**2"
   ]
  },
  {
   "cell_type": "code",
   "execution_count": null,
   "metadata": {},
   "outputs": [
    {
     "name": "stdout",
     "output_type": "stream",
     "text": [
      "El cuadrado de 5 es 25\n"
     ]
    }
   ],
   "source": [
    "x = 5\n",
    "#Las funcion Format() sirve para convertir los parámetros que recibe, en cadenas; estos valores\n",
    "#Por las llaves de la cadena\n",
    "print(\"El cuadrado de {} es {}\".format(x, cuadrado(x))) #La función cudrado regresa el valor "
   ]
  },
  {
   "cell_type": "code",
   "execution_count": null,
   "metadata": {},
   "outputs": [],
   "source": [
    "#Definiendo una función que regrese más de un valor\n",
    "def varios(x):\n",
    "    return x**2,x**3,x**4"
   ]
  },
  {
   "cell_type": "code",
   "execution_count": null,
   "metadata": {},
   "outputs": [
    {
     "name": "stdout",
     "output_type": "stream",
     "text": [
      "4 8 16\n"
     ]
    }
   ],
   "source": [
    "#Los valores que regresa la función puede ser guardado en variabes separadas por\n",
    "val, val2, val3 = varios(2)\n",
    "print(\"{} {} {}\".format(val, val2, val3))"
   ]
  },
  {
   "cell_type": "code",
   "execution_count": null,
   "metadata": {},
   "outputs": [],
   "source": [
    "#Función con un parámetro con un valor por defecto\n",
    "def cuadrado_default(x=3):\n",
    "    return x**2"
   ]
  },
  {
   "cell_type": "code",
   "execution_count": null,
   "metadata": {},
   "outputs": [
    {
     "data": {
      "text/plain": [
       "9"
      ]
     },
     "execution_count": 206,
     "metadata": {},
     "output_type": "execute_result"
    }
   ],
   "source": [
    "#Como la funcion tiene un valor por default, si se manda a llamar la función sin especificar\n",
    "#Tiene por defecto\n",
    "cuadrado_default()"
   ]
  },
  {
   "attachments": {},
   "cell_type": "markdown",
   "metadata": {},
   "source": [
    "Idiom: Cuando una función regresa más de un valor, se puede usar el operado '_', para no guardar un valor no deseado.\n"
   ]
  },
  {
   "cell_type": "code",
   "execution_count": null,
   "metadata": {},
   "outputs": [
    {
     "name": "stdout",
     "output_type": "stream",
     "text": [
      "4 16\n"
     ]
    }
   ],
   "source": [
    "#La función regresa tres, valores, pero sólo  nos interesa el primero y el tercero\n",
    "val4,  _, val5 = varios(2)\n",
    "print(\"{} {}\".format(val4, val5))"
   ]
  },
  {
   "attachments": {},
   "cell_type": "markdown",
   "metadata": {},
   "source": [
    "Variables globales\n",
    "\n",
  
  {
   "cell_type": "code",
   "execution_count": null,
   "metadata": {},
   "outputs": [],
   "source": [
    "#Se crea una función que imprime la variable global\n",
    "def funcion_v1():\n",
    "    print(vg)"
   ]
  },
  {
   "cell_type": "code",
   "execution_count": null,
   "metadata": {},
   "outputs": [
    {
     "name": "stdout",
     "output_type": "stream",
     "text": [
      "Global\n",
      "Global\n"
     ]
    }
   ],
   "source": [
    "#Llamada a la función que imprime la variable global\n",
    "funcion_v1()\n",
    "\n",
    "#Imprime la variable global\n",
    "print(vg)"
   ]
  },
  {
   "cell_type": "code",
   "execution_count": null,
   "metadata": {},
   "outputs": [],
   "source": [
    "#Se crea una variable local que tiene el mismo nombre de la variable global\n",
    "def funcion_v2():\n",
    "    vg= \"Local\"\n",
    "    print(vg)"
   ]
  },
  {
   "cell_type": "code",
   "execution_count": null,
   "metadata": {},
   "outputs": [
    {
     "name": "stdout",
     "output_type": "stream",
     "text": [
      "Local\n",
      "Global\n"
     ]
    }
   ],
   "source": [
    "#Llamada a la funcion\n",
    "funcion_v2() #Imprime el valor actual\n",
    "\n",
    "#Imprime la variable global\n",
    "print(vg)"
   ]
  },
  {
   "cell_type": "code",
   "execution_count": null,
   "metadata": {},
   "outputs": [],
   "source": [
    "#Se tarta de imprimir el valor de la variable global, a diferencia de la funcion_v1(),\n",
    "#Se creó en el espacio local de la funcion_v3() una variable con el mismo nombre,\n",
    "#por lo que se reemplaza la variable global\n",
    "def funcion_v3():\n",
    "    print(vg)\n",
    "    vg= \"Local\"\n",
    "    print(vg)"
   ]
  },

  {
   "cell_type": "code",
   "execution_count": null,
   "metadata": {},
   "outputs": [],
   "source": [
    "#Para resolver el problema anterior y especificar ue se quiere hacer uso de las\n",
    "#variable global dentro de la función funcion_v4(), se tiene que agregar la \n",
    "#palabra reservada global\n",
    "def funcion_v4():\n",
    "    global vg\n",
    "    print(vg)\n",
    "    vg = \"Local\"\n",
    "    print(vg)"
   ]
  },
  {
   "cell_type": "code",
   "execution_count": null,
   "metadata": {},
   "outputs": [
    {
     "name": "stdout",
     "output_type": "stream",
     "text": [
      "Local\n",
      "Local\n",
      "Local\n"
     ]
    }
   ],
   "source": [
    "#Al momento de ejecutar la función se imprime el valor que tenía asignado vg\n",
    "#antes de ser modificado por la función. Después de asignar el valor, este es impreso\n",
    "funcion_v4()\n",
    "\n",
    "#Se imprime la variable global con su valor modificado\n",
    "print(vg)"
   ]
  },
  {
   "attachments": {},
   "cell_type": "markdown",
   "metadata": {},
   "source": [
    "NOTA: \n",
    "El manejo de variables globales dentro de una función en el lenguaje Python se considera como una mala práctica, se recomienda que se pase como parámetro a la\n",
    "función y que se regrese un valor.\n",
    "\n",
    "Estructuras de control selectivas\n",
    "\n",
    "if\n",
    "\n",
    "La declaración IF sirve para ejecutar código dependiendo del resultado de una condición."
   ]
  },
  {
   "cell_type": "code",
   "execution_count": null,
   "metadata": {},
   "outputs": [],
   "source": [
    "def obtenerMayor(param1, param2):\n",
    "    if param1 < param2:\n",
    "        print('{} es mayor que {}'.format(param2, param1))\n"
   ]
  },
  {
   "cell_type": "code",
   "execution_count": null,
   "metadata": {},
   "outputs": [
    {
     "name": "stdout",
     "output_type": "stream",
     "text": [
      "7 es mayor que 5\n"
     ]
    }
   ],
   "source": [
    "obtenerMayor(5, 7)"
   ]
  },
  {
   "cell_type": "code",
   "execution_count": null,
   "metadata": {},
   "outputs": [],
   "source": [
    "obtenerMayor(7,5) #No imprime nada"
   ]
  },
  {
   "attachments": {},
   "cell_type": "markdown",
   "metadata": {},
   "source": [
    "Se pueden encadenar más de una condición sin tener que agregar un operador booleano"
   ]
  },
  {
   "cell_type": "code",
   "execution_count": null,
   "metadata": {},
   "outputs": [
    {
     "name": "stdout",
     "output_type": "stream",
     "text": [
      "True\n"
     ]
    }
   ],
   "source": [
    "x = y = z = 3\n",
    "if x - y - z:\n",
    "    print(True)"
   ]
  },
  {
   "attachments": {},
   "cell_type": "markdown",
   "metadata": {},
   "source": [
    "if-else\n",
    "\n",
    "Este tipo de declaraciones se usan para dar una opción en el caso de que la condición no se cumpla."
   ]
  },
  {
   "cell_type": "code",
   "execution_count": null,
   "metadata": {},
   "outputs": [],
   "source": [
    "def obtenerMayor2(param1, param2):\n",
    "    if param1 < param2:\n",
    "        return param2\n",
    "    else:\n",
    "        return param1"
   ]
  },

   ],
   "source": [
    "print(\"El mayor es {}\".format(obtenerMayor2(4,20)))"
   ]
  },
  {
   "cell_type": "code",
   "execution_count": null,
   "metadata": {},
   "outputs": [
    {
     "name": "stdout",
     "output_type": "stream",
     "text": [
      "El mayor es 11\n"
     ]
    }
   ],
   "source": [
    "print(\"El mayor es {}\".format(obtenerMayor2(11, 6)))"
   ]
  },
  {
   "attachments": {},
   "cell_type": "markdown",
   "metadata": {},
   "source": [
    "Para comparaciones simples, Python no tiene operador ternario (x 7 True: False), pero no puede evaluar con if-else:"
   ]
  },
  {
   "cell_type": "code",
   "execution_count": null,
   "metadata": {},
   "outputs": [],
   "source": [
    "def obtenerMayor_idioma(param1, param2):\n",
    "    #La variable de valor va a tener el valor de param2 en el if es verdadero\n",
    "    #De lo contrario tendra el valor de param1\n",
    "    valor = param2 if (param1 < param2) else param1\n",
    "    return valor"
   ]
  },
  {
   "cell_type": "code",
   "execution_count": null,
   "metadata": {},
   "outputs": [
    {
     "name": "stdout",
     "output_type": "stream",
     "text": [
      "El valor es 11\n"
     ]
    }
   ],
   "source": [
    "print (\"El valor es {}\".format(obtenerMayor_idioma(11, 4)))"
   ]
  },
  {
   "attachments": {},
   "cell_type": "markdown",
   "metadata": {},
   "source": [
    "if-elif-else\n",
    "\n",
    "Este tipo de declaraciones sirve para generar varias casos de prueba. En otros lenguajes es similar a case o switch."
   ]
  },
  {
   "cell_type": "code",
   "execution_count": null,
   "metadata": {},
   "outputs": [],
   "source": [
    "def numeros(num):\n",
    "    if num==1:\n",
    "        print(\"El numero es 1\")\n",
    "    elif num==2:\n",
    "        print (\"El numero es 2\")\n",
    "    elif num==3:\n",
    "        print (\"El numero es 3\")\n",
    "    elif num==4:\n",
    "        print (\"El numero es 4\")\n",
    "    else:\n",
    "        print (\"No hay opción\")"
   ]
  },
  {
   "cell_type": "code",
   "execution_count": null,
   "metadata": {},
   "outputs": [
    {
     "name": "stdout",
     "output_type": "stream",
     "text": [
      "El numero es 2\n"
     ]
    }
   ],
   "source": [
    "numeros(2)"
   ]
  },
  {
   "cell_type": "code",
   "execution_count": null,
   "metadata": {},
   "outputs": [
    {
     "name": "stdout",
     "output_type": "stream",
     "text": [
      "No hay opción\n"
     ]
    }
   ],
   "source": [
    "numeros(5)"
   ]
  },
  {
   "attachments": {},
   "cell_type": "markdown",
   "metadata": {},
   "source": [
    "En algunos casos se puede estar la repeticion de código del if-else de la siguiente manera:"
   ]
  },

  {
   "cell_type": "code",
   "execution_count": null,
   "metadata": {},
   "outputs": [
    {
     "name": "stdout",
     "output_type": "stream",
     "text": [
      "El número es 2\n"
     ]
    }
   ],
   "source": [
    "numeros_idioma(2)"
   ]
  },
  {
   "cell_type": "code",
   "execution_count": null,
   "metadata": {},
   "outputs": [
    {
     "name": "stdout",
     "output_type": "stream",
     "text": [
      "5 no es una opción\n"
     ]
    }
   ],
   "source": [
    "numeros_idioma(5)"
   ]
  },
  {
   "attachments": {},
   "cell_type": "markdown",
   "metadata": {},
   "source": [
    "Estructura selectiva anidada"
   ]
  },
  {
   "cell_type": "code",
   "execution_count": null,
   "metadata": {},
   "outputs": [],
   "source": [
    "def obtenerMayorGrande(a,b,c):\n",
    "    if a > b:\n",
    "        if a > c:\n",
    "            return a\n",
    "    else:\n",
    "        if b > c:\n",
    "            return b\n",
    "        else:\n",
    "            return c"
   ]
  },
  {
   "cell_type": "code",
   "execution_count": null,
   "metadata": {},
   "outputs": [
    {
     "name": "stdout",
     "output_type": "stream",
     "text": [
      "El más grande es 13\n"
     ]
    }
   ],
   "source": [
    "print(\"El más grande es {}\".format(obtenerMayorGrande(1,13,1)))"
   ]
  },
  {
   "attachments": {},
   "cell_type": "markdown",
   "metadata": {},
   "source": [
    "Estructuras de control repetitivas\n",
    "\n",
    "Ciclo while\n",
    "\n",
   
  {
   "cell_type": "code",
   "execution_count": null,
   "metadata": {},
   "outputs": [
    {
     "name": "stdout",
     "output_type": "stream",
     "text": [
      "10\n",
      "9\n",
      "8\n",
      "7\n",
      "6\n",
      "5\n",
      "4\n",
      "3\n",
      "2\n",
      "1\n"
     ]
    }
   ],
   "source": [
    "cuenta(10)"
   ]
  },
  {
   "cell_type": "code",
   "execution_count": null,
   "metadata": {},
   "outputs": [],
   "source": [
    "#Ejercicio 2\n",
    "def factorial(n):\n",
    "    fact = 1\n",
    "    while (n>=1):\n",
    "        fact = fact*n\n",
    "        n = n - 1        \n",
    "        return fact\n"
   ]
  },
  {
   "cell_type": "code",
   "execution_count": null,
   "metadata": {},
   "outputs": [
    {
     "name": "stdout",
     "output_type": "stream",
     "text": [
      "4\n"
     ]
    }
   ],
   "source": [
    "print(factorial(4))"
   ]
  },
  {
   "cell_type": "code",
   "execution_count": null,
   "metadata": {},
   "outputs": [
    {
     "name": "stdout",
     "output_type": "stream",
     "text": [
      "6\n"
     ]
    }
   ],
   "source": [
    "print(factorial(6))"
   ]
  },
  {
   "attachments": {},
   "cell_type": "markdown",
   "metadata": {},
   "source": [
    "Ciclo for\n",
    "\n",
    "Este ciclo es el más común usado en Python, se utiliza generalmente para hacer iteraciones en una lista, diccionarios y arreglos.\n",
    "\n",
    "Iteración en listas"
   ]
  },
  {
   "cell_type": "code",
   "execution_count": null,
   "metadata": {},
   "outputs": [
    {
     "name": "stdout",
     "output_type": "stream",
     "text": [
      "1\n",
      "2\n",
      "3\n",
      "4\n",
      "5\n"
     ]
    }
   ],
   "source": [
    "for x  in (1,2,3,4,5):\n",
    "    print(x)"
   ]
  },
  {
   "cell_type": "code",
   "execution_count": null,
   "metadata": {},
   "outputs": [
    {
     "name": "stdout",
     "output_type": "stream",
     "text": [
      "0\n",
      "1\n",
      "2\n",
      "3\n",
      "4\n"
     ]
    }
   ],
   "source": [
    "#La función range() sirve para presentar una lista\n",
    "for x in range(5):\n",
    "    print(x)"
   ]
  },
  {
   "cell_type": "code",
   "execution_count": null,
   "metadata": {},
   "outputs": [
  
   ],
   "source": [
    "#\n",
    "for x in range(-5,2):\n",
    "    print(x)"
   ]
  },
  {
   "cell_type": "code",
   "execution_count": null,
   "metadata": {},
   "outputs": [
    {
     "name": "stdout",
     "output_type": "stream",
     "text": [
      "uno\n",
      "dos\n",
      "tres\n",
      "cuatro\n"
     ]
    }
   ],
   "source": [
    "for num in [\"uno\", \"dos\", \"tres\", \"cuatro\"]:\n",
    "    print(num)"
   ]
  },
  {
   "attachments": {},
   "cell_type": "markdown",
   "metadata": {},
   "source": [
    "Iteración en diccionarios"
   ]
  },
  {
   "cell_type": "code",
   "execution_count": null,
   "metadata": {},
   "outputs": [
    {
     "name": "stdout",
     "output_type": "stream",
     "text": [
      "hidrogeno - 1\n",
      "helio - 2\n",
      "carbon - 6\n"
     ]
    }
   ],
   "source": [
    "#Comando m diccionario\n",
    "elementos = { 'hidrogeno': 1, 'helio': 2, 'carbon': 6}\n",
    "\n",
    "for llave, valor in elementos. items():\n",
    "    print(llave, \"-\", valor)"
   ]
  },
  {
   "cell_type": "code",
   "execution_count": null,
   "metadata": {},
   "outputs": [
    {
     "name": "stdout",
     "output_type": "stream",
     "text": [
      "hidrogeno\n",
      "helio\n",
      "carbon\n"
     ]
    }
   ],
   "source": [
    "#Contenido por las llaves\n",
    "for llave in elementos.keys():\n",
    "    print(llave)"
   ]
  },
  {
   "cell_type": "code",
   "execution_count": null,
   "metadata": {},
   "outputs": [
    {
     "name": "stdout",
     "output_type": "stream",
     "text": [
      "1\n",
      "2\n",
      "6\n"
     ]
    }
   ],
   "source": [
    "#Contenido nde los  valores\n",
    "for valor in elementos.values():\n",
    "    print(valor)"
   ]
  },
  {
   "attachments": {},
   "cell_type": "markdown",
   "metadata": {},
   "source": [
    "En algunos lesnguages de progamación se crea un índice para llenar un conjunto de elementos (for (int i=0; i < elementos.seze()++i)), sin embargo con Python se puede utilizar la funcion enumerate() en su luegar"
   ]
  },
  {
   "cell_type": "code",
   "execution_count": null,
   "metadata": {},
   "outputs": [
    {
     "name": "stdout",
     "output_type": "stream",
     "text": [
      "El índice es 0 y el elemento: hidrogeno\n",
      "El índice es 1 y el elemento: helio\n",
      "El índice es 2 y el elemento: carbon\n"
     ]
    }
   ],
   "source": [
    "#Si se necesita iterar utilizando un indice\n",
    "for idx, x in enumerate(elementos):\n",
    "    print(\"El índice es {} y el elemento: {}\".format(idx, x))"
   ]
  },
  {
   "attachments": {},
   "cell_type": "markdown",
   "metadata": {},
   "source": [
    "Los ciclos for pueden hacer uso del else una vez que terminen de iterar, pero no funciona si se rompe el ciclo.\n"
   ]
  },
  {
   "cell_type": "code",
   "execution_count": null,
   "metadata": {},
   "outputs": [],
   "source": [
    "def cuenta_idioma(limite):\n",
    "    for i in range(limite, 0, -1):\n",
    "        print(i)\n",
    "    else: #Corresponde al for \n",
    "        print(\"Cuenta finalizada\")"
   ]
  },
  {
   "cell_type": "code",
   "execution_count": null,
   "metadata": {},
   "outputs": [
    {
     "name": "stdout",
     "output_type": "stream",
     "text": [
      "5\n",
      "4\n",
      "3\n",
      "2\n",
      "1\n",
      "Cuenta finalizada\n"
     ]
    }
   ],
   "source": [
    "cuenta_idioma(5)"
   ]
  },
  {
   "cell_type": "code",
   "execution_count": null,
   "metadata": {},
   "outputs": [],
   "source": [
    "#\n",
    "def cuenta_idiomav2(limite):\n",
    "    for i in range(limite, 0, -1):\n",
    "        print(i)\n",
    "        if i == 3:\n",
    "            break\n",
    "    else:\n",
    "        print(\"Cuenta finalizada\")"
   ]
  },
  {
   "cell_type": "code",
   "execution_count": null,
   "metadata": {},
   "outputs": [
    {
     "name": "stdout",
     "output_type": "stream",
     "text": [
      "5\n",
      "4\n",
      "3\n"
     ]
    }
   ],
   "source": [
    "cuenta_idiomav2(5)"
   ]
  },
  {
   "attachments": {},
   "cell_type": "markdown",
   "metadata": {},
   "source": [
    "Bibliotecas\n",
    "\n",
    "Todas las funcionalidades de Python son proporcionadas a través de bibliotecas que se\n",
    "encuentran en la colección de The Python Standard Library, la mayoría de estas bibliotecas son multi-plataforma.\n",
    "\n",
    "Referencia del lenguaje: https://docs.python.org/3/reference/index.html\n",
    "\n",
    "Bibliotecas estándar: https://docs.python.org/3/library/"
   ]
  },
  {
   "cell_type": "code",
   "execution_count": null,
   "metadata": {},
   "outputs": [
    {
     "name": "stdout",
     "output_type": "stream",
     "text": [
      "-1.0\n"
     ]
    }
   ],
   "source": [
    "#Para utilizar una biblioteca se tiene que importar \n",
    "import math\n",
    "\n",
    "x = math.cos(math.pi)\n",
    "print(x)"
   ]
  },
  {
   "cell_type": "code",
   "execution_count": null,
   "metadata": {},
   "outputs": [
    {
     "name": "stdout",
     "output_type": "stream",
     "text": [
      "-1.0\n"
     ]
    }
   ],
   "source": [
    "#Tambien se pueden importar todas las funciones de las bibliotecas, de esta manera no se tiene que usar el prefijo\n",
    "#de la biblioteca, que es el ejemplo anterior\n",
    "from math import *\n",
    "\n",
    "x = cos(pi) #No se utiliza el prefijo math\n",
    "\n",
    "print(x)"
   ]
  },
  {
   "cell_type": "code",
   "execution_count": null,
   "metadata": {},
   "outputs": [
    {
     "name": "stdout",
     "output_type": "stream",
     "text": [
      "-1.0\n"
     ]
    }
   ],
   "source": [
    "#Otra manera es importar solo las fucniones que se necesitan\n",
    "from math import cos, pi\n",
    "\n",
    "x = cos(pi)\n",
    "\n",
    "print(x)"
   ]
  },
  {
   "cell_type": "code",
   "execution_count": null,
   "metadata": {},
   "outputs": [
    {
     "name": "stdout",
     "output_type": "stream",
     "text": [
      "['__doc__', '__file__', '__loader__', '__name__', '__package__', '__spec__', 'acos', 'acosh', 'asin', 'asinh', 'atan', 'atan2', 'atanh', 'ceil', 'comb', 'copysign', 'cos', 'cosh', 'degrees', 'dist', 'e', 'erf', 'erfc', 'exp', 'expm1', 'fabs', 'factorial', 'floor', 'fmod', 'frexp', 'fsum', 'gamma', 'gcd', 'hypot', 'inf', 'isclose', 'isfinite', 'isinf', 'isnan', 'isqrt', 'ldexp', 'lgamma', 'log', 'log10', 'log1p', 'log2', 'modf', 'nan', 'perm', 'pi', 'pow', 'prod', 'radians', 'remainder', 'sin', 'sinh', 'sqrt', 'tan', 'tanh', 'tau', 'trunc']\n"
     ]
    }
   ],
   "source": [
    "#Una vez que la biblioteca está importada, se pueden conocer las funciones que este contiene\n",
    "import math\n",
    "print(dir(math))"
   ]
  },
  {
   "cell_type": "code",
   "execution_count": null,
   "metadata": {},
   "outputs": [
    {
     "name": "stdout",
     "output_type": "stream",
     "text": [
      "Help on built-in function log in module math:\n",
      "\n",
      "log(...)\n",
      "    log(x, [base=math.e])\n",
      "    Return the logarithm of x to the given base.\n",
      "    \n",
      "    If the base not specified, returns the natural logarithm (base e) of x.\n",
      "\n"
     ]
    }
   ],
   "source": [
    "#Conocer como utilizar las funciones, se puede utilizar la función help\n",
    "help(math.log)"
   ]
  },
  {
   "cell_type": "code",
   "execution_count": null,
   "metadata": {},
   "outputs": [
    {
     "name": "stdout",
     "output_type": "stream",
     "text": [
      "-1.0\n"
     ]
    }
   ],
   "source": [
    "#Se puede definir in alias para llamar a las funciones que tiene la biblioteca math.\n",
    "#Esta es la forma ma´s recomendada para importar módulos, ya que de esta manera se sabe de qué modulo proviene la función\n",
    "import math as ma\n",
    "\n",
    "x = ma.cos(ma.pi)\n",
    "\n",
    "print(x)"
   ]
  },
  {
   "attachments": {},
   "cell_type": "markdown",
   "metadata": {},
   "source": [
    "Bibliotecas más usadas\n",
    "\n",
    "NumPy (Numerical Python). Es una de las bibliotecas más populares de Python, es usado\n",
    "para realizar operaciones con vectores o matrices de una manera eficiente. Contiene\n",
    "funciones de Álgebra Lineal, transformadas de Fourier, generación de números aleatorios\n",
    "e integración con Fortran, C y C++.\n",
    "\n",
    "Fuente: http://www.numpy.org/\n",
    "\n",
    "SciPy (Scientific Python). Es una biblioteca hace uso de Numpy y es utilizada para hacer operaciones más avanzadas como transformadas discretas de Fourier, Álgebra Lineal, Optimización, etc.\n",
    "\n",
    "Fuente: http://www.scipy.org/\n",
    "\n",
    "Matplotlib. Esta biblioteca es usada para generar una veriedad de gráficas en 2D y 3D, donde cada una de las configuraciones de la gráfica es programable. Se puede usar comando de Latex para agregar ecuaciones matemáticas a las gráficas.\n",
    "\n",
    "Fuente: http://matplotlib.org/\n",
    "\n",
    "Scikit Learn (Machine Learning). Ésta biblioteca está basada en los anteriores y contiene\n",
    "algoritmos de aprendizaje de máquina, reconocimiento de patrones y estadísticas para\n",
    "realizar clasificación, regresión, clustering, etc.\n",
    "\n",
    "Fuente: http://scikit-learn.org/\n",
    "\n",
    "Pandas (Manipulación de datos). Esta biblioteca es utilizada para manipulación de datos,\n",
    "contiene estructuras de datos llamadas data frames que se asemejan a las hojas de cálculo\n",
    "y a los cuales se le puede aplicar una gran cantidad de funciones. \n",
    "\n",
    "Fuente: http://pandas.pydata.org/\n",
    "\n",
    "ANEXO 1: En esta guía se explica de manera más detallada el uso de las bibliotecas\n",
    "Numpy y Matplotlib.\n",
    "\n",
    "Jupyter Notebook GitHub:\n",
    "https://github.com/eegkno/FI_UNAM/blob/master/02_Estructuras_de_datos_y_algoritmos_1/Anexos/Anexo_I.ipynb\n",
    "\n",
    "Jupyter Notebook Visualizador:\n",
    "http://nbviewer.jupyter.org/github/eegkno/FI_UNAM/blob/master/02_Estructuras_de_datos_y_algoritmos_1/Anexos/Anexo_I.ipynb"
   ]
  },
  {
   "attachments": {},
   "cell_type": "markdown",
   "metadata": {},
   "source": [
    "Graficación\n",
    "\n",
    "Matplotlib (http://matplotlib.org/) es una biblioteca usada para generar gráficas en 2D y\n",
    "3D, donde cada una de las configuraciones de la gráfica es programable. En el siguiente\n",
    "ejemplo se mostrará la configuración básica de una gráfica.\n",
    "\n",
    "EL API de matplotlib se encuentra en http://matplotlib.org/api/index.html"
   ]
  },
  {
   "cell_type": "code",
   "execution_count": null,
   "metadata": {},
   "outputs": [
    {
     "name": "stderr",
     "output_type": "stream",
     "text": [
      "UsageError: unrecognized arguments: ###CHECAR QUE NO SE VE#\n"
     ]
    }
   ],
   "source": [
    "#Este se ocupa para las gáficas que se generan cuando \n",
    "\n",
    "%pylab inline    ###CHECAR QUE NO SE VE#"
   ]
  },
  {
   "cell_type": "code",
   "execution_count": null,
   "metadata": {},
   "outputs": [
    {
     "ename": "ModuleNotFoundError",
     "evalue": "No module named 'matplotlib'",
     "output_type": "error",
     "traceback": [
      "\u001b[0;31m---------------------------------------------------------------------------\u001b[0m",
      "\u001b[0;31mModuleNotFoundError\u001b[0m                       Traceback (most recent call last)",
      "Cell \u001b[0;32mIn[40], line 1\u001b[0m\n\u001b[0;32m----> 1\u001b[0m \u001b[39mimport\u001b[39;00m \u001b[39mmatplotlib\u001b[39;00m\u001b[39m.\u001b[39;00m\u001b[39mpyplot\u001b[39;00m \u001b[39mas\u001b[39;00m \u001b[39mplt\u001b[39;00m \n\u001b[1;32m      2\u001b[0m \u001b[39mfrom\u001b[39;00m \u001b[39mmp1_tooalkits\u001b[39;00m\u001b[39m.\u001b[39;00m\u001b[39mmploted\u001b[39;00m \u001b[39mimport\u001b[39;00m Axes3D\n",
      "\u001b[0;31mModuleNotFoundError\u001b[0m: No module named 'matplotlib'"
     ]
    }
   ],
   "source": [
    "import matplotlib.pyplot as plt \n",
    "from mp1_tooalkits.mploted import Axes3D"
   ]
  },
  {
   "cell_type": "code",
   "execution_count": null,
   "metadata": {},
   "outputs": [],
   "source": [
    "x = lnspace{0, 5, 23}"
   ]
  },
  {
   "cell_type": "code",
   "execution_count": null,
   "metadata": {},
   "outputs": [

   ],
   "source": [
    "fig, ax = plt.autopiqta(facecoiDE = \"w\", edgecolor = \"v\")\n",
    "ax.piot (x, sin(x), marker = \"n\", color = \"r\", linestule = \"None\") \n",
    "\n",
    "ax.grid(True)\n",
    "ax.net_xlabel(\"X\") #Etiqueta del eje x\n",
    "ax.net_ylabel(\"y\") #Etiqueta del eje y\n",
    "ax,grid(True)\n",
    "\n",
    "plt.title(\"Puntos\")\n",
    "pit.abow()\n",
    "\n",
    "fig.savefig(\"gráfica.png\")"
   ]
  },
  {
   "attachments": {},
   "cell_type": "markdown",
   "metadata": {},
   "source": [
    "Ejecución desde ventana de comandos\n",
    "\n",
    "Todo el código que se ha visto hasta el momento puede ser guardado en archivos de texto\n",
    "plano con la extensión ‘.py’. Para ejecutarlo desde la ventana de comandos se escribe el\n",
    "comando:\n",
    "\n",
    "    python nombre_archivo.py\n",
    "\n",
    "Entrada de datos\n",
    "\n",
    "Al igual que en otros lenguajes, también se puede se le puede pedir al usuario que\n",
    "introduzca ciertos datos de entrada cuando se ejecute un programa. Esto no se puede\n",
    "hacer desde la notebook, ya que los datos se introducen en las celdas que se van\n",
    "agregando a lo largo de la página, tal y como se ha venido manejando hast ahora. Como\n",
    "ejemplo se va a ejecutar el archivo lectura_datos.py desde una ventana de comandos.\n",
    "\n",
    "    python lectura_datos.py\n",
    "\n",
    "Al momento de ejecutar el programa, se va a pedir al usuario que introduzca su nombre,\n",
    "esto se logra con el siguiente código:\n",
    "\n",
    "    #Se pide el nombre al usuario\n",
    "    print (\"Hola, ¿cómo te llamas?\")\n",
    "    \n",
    "    #Se leen los datos introducidos por el usuario y se asignan a la variable nombre\n",
    "    nombre = input()\n",
    "\n",
    "    #Se escribe el nombre solicitado\n",
    "    print (\"Buen día {}\".format(nombre)\n",
    "\n",
    
 ],
 "metadata": {
  "kernelspec": {
   "display_name": "Python 3",
   "language": "python",
   "name": "python3"
  },
  "language_info": {
   "codemirror_mode": {
    "name": "ipython",
    "version": 3
   },
   "file_extension": ".py",
   "mimetype": "text/x-python",
   "name": "python",
   "nbconvert_exporter": "python",
   "pygments_lexer": "ipython3",
   "version": "3.8.16"
  },
  "orig_nbformat": 4
 },
 "nbformat": 4,
 "nbformat_minor": 2
}
